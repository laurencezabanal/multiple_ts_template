{
 "cells": [
  {
   "cell_type": "code",
   "execution_count": 83,
   "id": "b01cdf4c-30cc-4bd2-9692-9cfe38d69ee2",
   "metadata": {},
   "outputs": [],
   "source": [
    "import pandas as pd\n",
    "import datetime as dt\n",
    "import numpy as np\n",
    "import tqdm"
   ]
  },
  {
   "cell_type": "code",
   "execution_count": 58,
   "id": "ba07be5b-6f95-46f4-9f6d-98b75c1a384a",
   "metadata": {},
   "outputs": [],
   "source": [
    "import pycaret"
   ]
  },
  {
   "cell_type": "code",
   "execution_count": 59,
   "id": "b4cb5f61-7775-424c-a806-5cd014f9e7ce",
   "metadata": {},
   "outputs": [],
   "source": [
    "data = pd.read_csv(\"ts_raw.csv\")"
   ]
  },
  {
   "cell_type": "code",
   "execution_count": 60,
   "id": "147f748a-e588-44d6-bc66-37d65542ac08",
   "metadata": {},
   "outputs": [],
   "source": [
    "data['Date'] = pd.to_datetime(data['Date'])"
   ]
  },
  {
   "cell_type": "code",
   "execution_count": 61,
   "id": "741b17f4-cf53-4b62-95a1-f137f0f4e174",
   "metadata": {},
   "outputs": [
    {
     "data": {
      "text/html": [
       "<div>\n",
       "<style scoped>\n",
       "    .dataframe tbody tr th:only-of-type {\n",
       "        vertical-align: middle;\n",
       "    }\n",
       "\n",
       "    .dataframe tbody tr th {\n",
       "        vertical-align: top;\n",
       "    }\n",
       "\n",
       "    .dataframe thead th {\n",
       "        text-align: right;\n",
       "    }\n",
       "</style>\n",
       "<table border=\"1\" class=\"dataframe\">\n",
       "  <thead>\n",
       "    <tr style=\"text-align: right;\">\n",
       "      <th></th>\n",
       "      <th>Date</th>\n",
       "      <th>Function A</th>\n",
       "      <th>Function B</th>\n",
       "      <th>Function C</th>\n",
       "    </tr>\n",
       "  </thead>\n",
       "  <tbody>\n",
       "    <tr>\n",
       "      <th>0</th>\n",
       "      <td>2020-01-01</td>\n",
       "      <td>715</td>\n",
       "      <td>188</td>\n",
       "      <td>987</td>\n",
       "    </tr>\n",
       "    <tr>\n",
       "      <th>1</th>\n",
       "      <td>2020-02-01</td>\n",
       "      <td>153</td>\n",
       "      <td>180</td>\n",
       "      <td>653</td>\n",
       "    </tr>\n",
       "    <tr>\n",
       "      <th>2</th>\n",
       "      <td>2020-03-01</td>\n",
       "      <td>128</td>\n",
       "      <td>994</td>\n",
       "      <td>215</td>\n",
       "    </tr>\n",
       "    <tr>\n",
       "      <th>3</th>\n",
       "      <td>2020-04-01</td>\n",
       "      <td>910</td>\n",
       "      <td>175</td>\n",
       "      <td>323</td>\n",
       "    </tr>\n",
       "    <tr>\n",
       "      <th>4</th>\n",
       "      <td>2020-05-01</td>\n",
       "      <td>210</td>\n",
       "      <td>336</td>\n",
       "      <td>277</td>\n",
       "    </tr>\n",
       "  </tbody>\n",
       "</table>\n",
       "</div>"
      ],
      "text/plain": [
       "        Date  Function A  Function B  Function C\n",
       "0 2020-01-01         715         188         987\n",
       "1 2020-02-01         153         180         653\n",
       "2 2020-03-01         128         994         215\n",
       "3 2020-04-01         910         175         323\n",
       "4 2020-05-01         210         336         277"
      ]
     },
     "execution_count": 61,
     "metadata": {},
     "output_type": "execute_result"
    }
   ],
   "source": [
    "data.head()"
   ]
  },
  {
   "cell_type": "code",
   "execution_count": 62,
   "id": "78d8dc3a-5fac-45ff-bf92-7c4df095f56f",
   "metadata": {},
   "outputs": [
    {
     "name": "stdout",
     "output_type": "stream",
     "text": [
      "<class 'pandas.core.frame.DataFrame'>\n",
      "RangeIndex: 33 entries, 0 to 32\n",
      "Data columns (total 4 columns):\n",
      " #   Column      Non-Null Count  Dtype         \n",
      "---  ------      --------------  -----         \n",
      " 0   Date        33 non-null     datetime64[ns]\n",
      " 1   Function A  33 non-null     int64         \n",
      " 2   Function B  33 non-null     int64         \n",
      " 3   Function C  33 non-null     int64         \n",
      "dtypes: datetime64[ns](1), int64(3)\n",
      "memory usage: 1.2 KB\n"
     ]
    }
   ],
   "source": [
    "data.info()"
   ]
  },
  {
   "cell_type": "code",
   "execution_count": 63,
   "id": "efe712fd-8e8f-4eae-b595-42f6fe12a6ba",
   "metadata": {},
   "outputs": [
    {
     "data": {
      "text/plain": [
       "<AxesSubplot:xlabel='Date'>"
      ]
     },
     "execution_count": 63,
     "metadata": {},
     "output_type": "execute_result"
    },
    {
     "data": {
      "image/png": "[encoded data removed]",
      "text/plain": [
       "<Figure size 432x288 with 1 Axes>"
      ]
     },
     "metadata": {
      "needs_background": "light"
     },
     "output_type": "display_data"
    }
   ],
   "source": [
    "# plot the data\n",
    "data.plot(y=['Function A','Function B'],x='Date')"
   ]
  },
  {
   "cell_type": "code",
   "execution_count": null,
   "id": "5f72821f-c241-47ca-85c5-82fd5025580e",
   "metadata": {},
   "outputs": [],
   "source": []
  },
  {
   "cell_type": "code",
   "execution_count": 90,
   "id": "85148522-3e18-4c08-b51b-73c29707b328",
   "metadata": {},
   "outputs": [
    {
     "data": {
      "text/plain": [
       "['Function A', 'Function B', 'Function C']"
      ]
     },
     "execution_count": 90,
     "metadata": {},
     "output_type": "execute_result"
    }
   ],
   "source": [
    "# List of Functions\n",
    "all_functions = list((data.columns))\n",
    "all_functions.remove('Date')\n",
    "all_functions"
   ]
  },
  {
   "cell_type": "code",
   "execution_count": 91,
   "id": "dc15301c-e979-446a-9554-6f66ef17d5c0",
   "metadata": {},
   "outputs": [
    {
     "data": {
      "text/plain": [
       "['Function A', 'Function B', 'Function C']"
      ]
     },
     "execution_count": 91,
     "metadata": {},
     "output_type": "execute_result"
    }
   ],
   "source": [
    "all_functions"
   ]
  },
  {
   "cell_type": "code",
   "execution_count": 93,
   "id": "cfc13375-4c1e-430a-86a5-8baef961b6f0",
   "metadata": {},
   "outputs": [],
   "source": [
    "all_functions = ['Function A', 'Function B', 'Function C']"
   ]
  },
  {
   "cell_type": "code",
   "execution_count": 106,
   "id": "ad184d6e-5cee-44fb-8a98-6ea46c4990f4",
   "metadata": {},
   "outputs": [],
   "source": [
    "all_functions_df = []\n",
    "#for i in tqdm(data['time_series'].head(10000).unique()):\n",
    "for i in all_functions:\n",
    "    #l = load_model('trained_models/' + str(i), verbose=False)\n",
    "    #p = predict_model(l, data=score_df)\n",
    "    #df = get_crypto_data(i, \"2021-01-01\", \"2022-05-31\")\n",
    "    df = data[['Date']]\n",
    "    df['function'] = i\n",
    "    df['volume'] = data[i]\n",
    "    all_functions_df.append(df)"
   ]
  },
  {
   "cell_type": "code",
   "execution_count": 107,
   "id": "b226f8dc-dcda-445c-bb2a-8e2a2f788de1",
   "metadata": {},
   "outputs": [
    {
     "data": {
      "text/plain": [
       "[         Date    function  volume\n",
       " 0  2020-01-01  Function A     715\n",
       " 1  2020-02-01  Function A     153\n",
       " 2  2020-03-01  Function A     128\n",
       " 3  2020-04-01  Function A     910\n",
       " 4  2020-05-01  Function A     210\n",
       " 5  2020-06-01  Function A     843\n",
       " 6  2020-07-01  Function A     473\n",
       " 7  2020-08-01  Function A     336\n",
       " 8  2020-09-01  Function A     342\n",
       " 9  2020-10-01  Function A     622\n",
       " 10 2020-11-01  Function A     197\n",
       " 11 2020-12-01  Function A     745\n",
       " 12 2021-01-01  Function A     770\n",
       " 13 2021-02-01  Function A     842\n",
       " 14 2021-03-01  Function A     552\n",
       " 15 2021-04-01  Function A     249\n",
       " 16 2021-05-01  Function A     339\n",
       " 17 2021-06-01  Function A     356\n",
       " 18 2021-07-01  Function A     684\n",
       " 19 2021-08-01  Function A     520\n",
       " 20 2021-09-01  Function A     401\n",
       " 21 2021-10-01  Function A     664\n",
       " 22 2021-11-01  Function A     358\n",
       " 23 2021-12-01  Function A     929\n",
       " 24 2022-01-01  Function A     190\n",
       " 25 2022-02-01  Function A     173\n",
       " 26 2022-03-01  Function A     602\n",
       " 27 2022-04-01  Function A     849\n",
       " 28 2022-05-01  Function A     908\n",
       " 29 2022-06-01  Function A     553\n",
       " 30 2022-07-01  Function A     262\n",
       " 31 2022-08-01  Function A     793\n",
       " 32 2022-09-01  Function A     309,\n",
       "          Date    function  volume\n",
       " 0  2020-01-01  Function B     188\n",
       " 1  2020-02-01  Function B     180\n",
       " 2  2020-03-01  Function B     994\n",
       " 3  2020-04-01  Function B     175\n",
       " 4  2020-05-01  Function B     336\n",
       " 5  2020-06-01  Function B     693\n",
       " 6  2020-07-01  Function B     332\n",
       " 7  2020-08-01  Function B     810\n",
       " 8  2020-09-01  Function B     119\n",
       " 9  2020-10-01  Function B     560\n",
       " 10 2020-11-01  Function B     620\n",
       " 11 2020-12-01  Function B     657\n",
       " 12 2021-01-01  Function B     659\n",
       " 13 2021-02-01  Function B     558\n",
       " 14 2021-03-01  Function B     617\n",
       " 15 2021-04-01  Function B     987\n",
       " 16 2021-05-01  Function B     165\n",
       " 17 2021-06-01  Function B     655\n",
       " 18 2021-07-01  Function B     119\n",
       " 19 2021-08-01  Function B     643\n",
       " 20 2021-09-01  Function B     104\n",
       " 21 2021-10-01  Function B     409\n",
       " 22 2021-11-01  Function B     323\n",
       " 23 2021-12-01  Function B     907\n",
       " 24 2022-01-01  Function B     206\n",
       " 25 2022-02-01  Function B     657\n",
       " 26 2022-03-01  Function B     248\n",
       " 27 2022-04-01  Function B     513\n",
       " 28 2022-05-01  Function B     426\n",
       " 29 2022-06-01  Function B     636\n",
       " 30 2022-07-01  Function B     768\n",
       " 31 2022-08-01  Function B     251\n",
       " 32 2022-09-01  Function B     124,\n",
       "          Date    function  volume\n",
       " 0  2020-01-01  Function C     987\n",
       " 1  2020-02-01  Function C     653\n",
       " 2  2020-03-01  Function C     215\n",
       " 3  2020-04-01  Function C     323\n",
       " 4  2020-05-01  Function C     277\n",
       " 5  2020-06-01  Function C     451\n",
       " 6  2020-07-01  Function C     871\n",
       " 7  2020-08-01  Function C     151\n",
       " 8  2020-09-01  Function C     810\n",
       " 9  2020-10-01  Function C     448\n",
       " 10 2020-11-01  Function C     856\n",
       " 11 2020-12-01  Function C     880\n",
       " 12 2021-01-01  Function C     710\n",
       " 13 2021-02-01  Function C     184\n",
       " 14 2021-03-01  Function C     161\n",
       " 15 2021-04-01  Function C     534\n",
       " 16 2021-05-01  Function C     518\n",
       " 17 2021-06-01  Function C     587\n",
       " 18 2021-07-01  Function C     360\n",
       " 19 2021-08-01  Function C     358\n",
       " 20 2021-09-01  Function C     847\n",
       " 21 2021-10-01  Function C     186\n",
       " 22 2021-11-01  Function C     923\n",
       " 23 2021-12-01  Function C     790\n",
       " 24 2022-01-01  Function C     290\n",
       " 25 2022-02-01  Function C     273\n",
       " 26 2022-03-01  Function C     567\n",
       " 27 2022-04-01  Function C     838\n",
       " 28 2022-05-01  Function C     190\n",
       " 29 2022-06-01  Function C     441\n",
       " 30 2022-07-01  Function C     422\n",
       " 31 2022-08-01  Function C     653\n",
       " 32 2022-09-01  Function C     897]"
      ]
     },
     "execution_count": 107,
     "metadata": {},
     "output_type": "execute_result"
    }
   ],
   "source": [
    "all_functions_df"
   ]
  },
  {
   "cell_type": "code",
   "execution_count": 113,
   "id": "a014d304-e370-441a-af3f-42d499472169",
   "metadata": {},
   "outputs": [
    {
     "data": {
      "text/html": [
       "<div>\n",
       "<style scoped>\n",
       "    .dataframe tbody tr th:only-of-type {\n",
       "        vertical-align: middle;\n",
       "    }\n",
       "\n",
       "    .dataframe tbody tr th {\n",
       "        vertical-align: top;\n",
       "    }\n",
       "\n",
       "    .dataframe thead th {\n",
       "        text-align: right;\n",
       "    }\n",
       "</style>\n",
       "<table border=\"1\" class=\"dataframe\">\n",
       "  <thead>\n",
       "    <tr style=\"text-align: right;\">\n",
       "      <th></th>\n",
       "      <th>Date</th>\n",
       "      <th>function</th>\n",
       "      <th>volume</th>\n",
       "    </tr>\n",
       "  </thead>\n",
       "  <tbody>\n",
       "    <tr>\n",
       "      <th>0</th>\n",
       "      <td>2020-01-01</td>\n",
       "      <td>Function A</td>\n",
       "      <td>715</td>\n",
       "    </tr>\n",
       "    <tr>\n",
       "      <th>1</th>\n",
       "      <td>2020-02-01</td>\n",
       "      <td>Function A</td>\n",
       "      <td>153</td>\n",
       "    </tr>\n",
       "    <tr>\n",
       "      <th>2</th>\n",
       "      <td>2020-03-01</td>\n",
       "      <td>Function A</td>\n",
       "      <td>128</td>\n",
       "    </tr>\n",
       "    <tr>\n",
       "      <th>3</th>\n",
       "      <td>2020-04-01</td>\n",
       "      <td>Function A</td>\n",
       "      <td>910</td>\n",
       "    </tr>\n",
       "    <tr>\n",
       "      <th>4</th>\n",
       "      <td>2020-05-01</td>\n",
       "      <td>Function A</td>\n",
       "      <td>210</td>\n",
       "    </tr>\n",
       "  </tbody>\n",
       "</table>\n",
       "</div>"
      ],
      "text/plain": [
       "        Date    function  volume\n",
       "0 2020-01-01  Function A     715\n",
       "1 2020-02-01  Function A     153\n",
       "2 2020-03-01  Function A     128\n",
       "3 2020-04-01  Function A     910\n",
       "4 2020-05-01  Function A     210"
      ]
     },
     "execution_count": 113,
     "metadata": {},
     "output_type": "execute_result"
    }
   ],
   "source": [
    "concat_functions_df = pd.concat(all_functions_df, axis=0)\n",
    "#concat_functions_df =concat_functions_df.rename(columns={'dt': 'date'})\n",
    "concat_functions_df.head()"
   ]
  },
  {
   "cell_type": "code",
   "execution_count": 114,
   "id": "7cb65586-cc0d-46ac-9eef-325fe8d1f2e4",
   "metadata": {},
   "outputs": [],
   "source": [
    "all_data = concat_functions_df.copy()\n",
    "\n",
    "# extract features from date\n",
    "all_data['month'] = [i.month for i in all_data['Date']]\n",
    "all_data['year'] = [i.year for i in all_data['Date']]\n",
    "all_data['quarter'] = [i.quarter for i in all_data['Date']]"
   ]
  },
  {
   "cell_type": "code",
   "execution_count": 115,
   "id": "4b3a2250-c3e8-416e-aa9b-9ce0ce99211f",
   "metadata": {},
   "outputs": [
    {
     "data": {
      "text/html": [
       "<div>\n",
       "<style scoped>\n",
       "    .dataframe tbody tr th:only-of-type {\n",
       "        vertical-align: middle;\n",
       "    }\n",
       "\n",
       "    .dataframe tbody tr th {\n",
       "        vertical-align: top;\n",
       "    }\n",
       "\n",
       "    .dataframe thead th {\n",
       "        text-align: right;\n",
       "    }\n",
       "</style>\n",
       "<table border=\"1\" class=\"dataframe\">\n",
       "  <thead>\n",
       "    <tr style=\"text-align: right;\">\n",
       "      <th></th>\n",
       "      <th>Date</th>\n",
       "      <th>function</th>\n",
       "      <th>volume</th>\n",
       "      <th>month</th>\n",
       "      <th>year</th>\n",
       "      <th>quarter</th>\n",
       "    </tr>\n",
       "  </thead>\n",
       "  <tbody>\n",
       "    <tr>\n",
       "      <th>0</th>\n",
       "      <td>2020-01-01</td>\n",
       "      <td>Function A</td>\n",
       "      <td>715</td>\n",
       "      <td>1</td>\n",
       "      <td>2020</td>\n",
       "      <td>1</td>\n",
       "    </tr>\n",
       "    <tr>\n",
       "      <th>1</th>\n",
       "      <td>2020-02-01</td>\n",
       "      <td>Function A</td>\n",
       "      <td>153</td>\n",
       "      <td>2</td>\n",
       "      <td>2020</td>\n",
       "      <td>1</td>\n",
       "    </tr>\n",
       "    <tr>\n",
       "      <th>2</th>\n",
       "      <td>2020-03-01</td>\n",
       "      <td>Function A</td>\n",
       "      <td>128</td>\n",
       "      <td>3</td>\n",
       "      <td>2020</td>\n",
       "      <td>1</td>\n",
       "    </tr>\n",
       "    <tr>\n",
       "      <th>3</th>\n",
       "      <td>2020-04-01</td>\n",
       "      <td>Function A</td>\n",
       "      <td>910</td>\n",
       "      <td>4</td>\n",
       "      <td>2020</td>\n",
       "      <td>2</td>\n",
       "    </tr>\n",
       "    <tr>\n",
       "      <th>4</th>\n",
       "      <td>2020-05-01</td>\n",
       "      <td>Function A</td>\n",
       "      <td>210</td>\n",
       "      <td>5</td>\n",
       "      <td>2020</td>\n",
       "      <td>2</td>\n",
       "    </tr>\n",
       "    <tr>\n",
       "      <th>...</th>\n",
       "      <td>...</td>\n",
       "      <td>...</td>\n",
       "      <td>...</td>\n",
       "      <td>...</td>\n",
       "      <td>...</td>\n",
       "      <td>...</td>\n",
       "    </tr>\n",
       "    <tr>\n",
       "      <th>28</th>\n",
       "      <td>2022-05-01</td>\n",
       "      <td>Function C</td>\n",
       "      <td>190</td>\n",
       "      <td>5</td>\n",
       "      <td>2022</td>\n",
       "      <td>2</td>\n",
       "    </tr>\n",
       "    <tr>\n",
       "      <th>29</th>\n",
       "      <td>2022-06-01</td>\n",
       "      <td>Function C</td>\n",
       "      <td>441</td>\n",
       "      <td>6</td>\n",
       "      <td>2022</td>\n",
       "      <td>2</td>\n",
       "    </tr>\n",
       "    <tr>\n",
       "      <th>30</th>\n",
       "      <td>2022-07-01</td>\n",
       "      <td>Function C</td>\n",
       "      <td>422</td>\n",
       "      <td>7</td>\n",
       "      <td>2022</td>\n",
       "      <td>3</td>\n",
       "    </tr>\n",
       "    <tr>\n",
       "      <th>31</th>\n",
       "      <td>2022-08-01</td>\n",
       "      <td>Function C</td>\n",
       "      <td>653</td>\n",
       "      <td>8</td>\n",
       "      <td>2022</td>\n",
       "      <td>3</td>\n",
       "    </tr>\n",
       "    <tr>\n",
       "      <th>32</th>\n",
       "      <td>2022-09-01</td>\n",
       "      <td>Function C</td>\n",
       "      <td>897</td>\n",
       "      <td>9</td>\n",
       "      <td>2022</td>\n",
       "      <td>3</td>\n",
       "    </tr>\n",
       "  </tbody>\n",
       "</table>\n",
       "<p>99 rows × 6 columns</p>\n",
       "</div>"
      ],
      "text/plain": [
       "         Date    function  volume  month  year  quarter\n",
       "0  2020-01-01  Function A     715      1  2020        1\n",
       "1  2020-02-01  Function A     153      2  2020        1\n",
       "2  2020-03-01  Function A     128      3  2020        1\n",
       "3  2020-04-01  Function A     910      4  2020        2\n",
       "4  2020-05-01  Function A     210      5  2020        2\n",
       "..        ...         ...     ...    ...   ...      ...\n",
       "28 2022-05-01  Function C     190      5  2022        2\n",
       "29 2022-06-01  Function C     441      6  2022        2\n",
       "30 2022-07-01  Function C     422      7  2022        3\n",
       "31 2022-08-01  Function C     653      8  2022        3\n",
       "32 2022-09-01  Function C     897      9  2022        3\n",
       "\n",
       "[99 rows x 6 columns]"
      ]
     },
     "execution_count": 115,
     "metadata": {},
     "output_type": "execute_result"
    }
   ],
   "source": [
    "all_data"
   ]
  },
  {
   "cell_type": "code",
   "execution_count": 118,
   "id": "0dae03f6-52fe-498a-a947-c14512059ddf",
   "metadata": {},
   "outputs": [
    {
     "data": {
      "text/plain": [
       "3"
      ]
     },
     "execution_count": 118,
     "metadata": {},
     "output_type": "execute_result"
    }
   ],
   "source": [
    "# check the unique time_series\n",
    "all_data['function'].nunique()"
   ]
  },
  {
   "cell_type": "code",
   "execution_count": 119,
   "id": "3c0af38e-764c-41f1-8e14-896d557fa277",
   "metadata": {},
   "outputs": [
    {
     "data": {
      "text/plain": [
       "'C:\\\\Users\\\\John Laurence\\\\Documents\\\\Data Science Projects\\\\Experiments\\\\Time Series'"
      ]
     },
     "execution_count": 119,
     "metadata": {},
     "output_type": "execute_result"
    }
   ],
   "source": [
    "import os\n",
    "os.getcwd()"
   ]
  },
  {
   "cell_type": "code",
   "execution_count": 123,
   "id": "21a36a25-6032-43eb-bde9-071f32d9af2f",
   "metadata": {},
   "outputs": [
    {
     "data": {
      "text/plain": [
       "array(['Function A', 'Function B', 'Function C'], dtype=object)"
      ]
     },
     "execution_count": 123,
     "metadata": {},
     "output_type": "execute_result"
    }
   ],
   "source": [
    "all_ts = all_data['function'].unique()\n",
    "all_ts"
   ]
  },
  {
   "cell_type": "code",
   "execution_count": 126,
   "id": "73b08605-ccd2-4c4a-8281-0edcdb2eea1a",
   "metadata": {},
   "outputs": [
    {
     "name": "stderr",
     "output_type": "stream",
     "text": [
      "100%|██████████| 3/3 [00:18<00:00,  6.16s/it]\n"
     ]
    }
   ],
   "source": [
    "from tqdm import tqdm\n",
    "from pycaret.regression import *\n",
    "\n",
    "#all_ts = data['symbol'].head(n=10000).unique()\n",
    "#all_ts = data['time_series'].unique()\n",
    "all_ts = all_data['function'].unique()\n",
    "\n",
    "all_results = []\n",
    "final_model = {}\n",
    "\n",
    "for i in tqdm(all_ts):\n",
    "    \n",
    "    df_subset = all_data[all_data['function'] == i]\n",
    "    i=i.replace(\"/\", \"_\")\n",
    "    # initialize setup from pycaret.regression\n",
    "    s = setup(df_subset, target = 'volume', train_size = 0.95,\n",
    "              data_split_shuffle = False, fold_strategy = 'timeseries', fold = 3,\n",
    "              ignore_features = ['Date', 'function'],\n",
    "              numeric_features = ['year'],\n",
    "              categorical_features = ['quarter','month'],n_jobs=-6,\n",
    "              silent = True, verbose = False, session_id = 123)\n",
    "    \n",
    "    # compare all models and select best one based on MAE\n",
    "    best_model = compare_models(exclude=['dummy','par'],sort = 'MAE', verbose=False)\n",
    "    \n",
    "    # capture the compare result grid and store best model in list\n",
    "    p = pull().iloc[0:1]\n",
    "    p['function'] = str(i)\n",
    "    all_results.append(p)\n",
    "    \n",
    "    # finalize model i.e. fit on entire data including test set\n",
    "    f = finalize_model(best_model)\n",
    "    \n",
    "    # attach final model to a dictionary\n",
    "    final_model[i] = f\n",
    "    \n",
    "    # save transformation pipeline and model as pickle file \n",
    "    save_model(f, model_name='trained_models/' + str(i), verbose=False)"
   ]
  },
  {
   "cell_type": "code",
   "execution_count": 128,
   "id": "77237bbb-69e2-45db-ad90-7b8a71c08e49",
   "metadata": {},
   "outputs": [
    {
     "data": {
      "text/plain": [
       "{'Function A': LGBMRegressor(boosting_type='gbdt', class_weight=None, colsample_bytree=1.0,\n",
       "               importance_type='split', learning_rate=0.1, max_depth=-1,\n",
       "               min_child_samples=20, min_child_weight=0.001, min_split_gain=0.0,\n",
       "               n_estimators=100, n_jobs=-6, num_leaves=31, objective=None,\n",
       "               random_state=123, reg_alpha=0.0, reg_lambda=0.0, silent='warn',\n",
       "               subsample=1.0, subsample_for_bin=200000, subsample_freq=0),\n",
       " 'Function B': ElasticNet(alpha=1.0, copy_X=True, fit_intercept=True, l1_ratio=0.5,\n",
       "            max_iter=1000, normalize=False, positive=False, precompute=False,\n",
       "            random_state=123, selection='cyclic', tol=0.0001, warm_start=False),\n",
       " 'Function C': BayesianRidge(alpha_1=1e-06, alpha_2=1e-06, alpha_init=None,\n",
       "               compute_score=False, copy_X=True, fit_intercept=True,\n",
       "               lambda_1=1e-06, lambda_2=1e-06, lambda_init=None, n_iter=300,\n",
       "               normalize=False, tol=0.001, verbose=False)}"
      ]
     },
     "execution_count": 128,
     "metadata": {},
     "output_type": "execute_result"
    }
   ],
   "source": [
    "final_model"
   ]
  },
  {
   "cell_type": "code",
   "execution_count": 129,
   "id": "9a7dbad9-1236-4de5-9807-2be88d910893",
   "metadata": {},
   "outputs": [
    {
     "data": {
      "text/html": [
       "<div>\n",
       "<style scoped>\n",
       "    .dataframe tbody tr th:only-of-type {\n",
       "        vertical-align: middle;\n",
       "    }\n",
       "\n",
       "    .dataframe tbody tr th {\n",
       "        vertical-align: top;\n",
       "    }\n",
       "\n",
       "    .dataframe thead th {\n",
       "        text-align: right;\n",
       "    }\n",
       "</style>\n",
       "<table border=\"1\" class=\"dataframe\">\n",
       "  <thead>\n",
       "    <tr style=\"text-align: right;\">\n",
       "      <th></th>\n",
       "      <th>Model</th>\n",
       "      <th>MAE</th>\n",
       "      <th>MSE</th>\n",
       "      <th>RMSE</th>\n",
       "      <th>R2</th>\n",
       "      <th>RMSLE</th>\n",
       "      <th>MAPE</th>\n",
       "      <th>TT (Sec)</th>\n",
       "      <th>function</th>\n",
       "    </tr>\n",
       "  </thead>\n",
       "  <tbody>\n",
       "    <tr>\n",
       "      <th>lightgbm</th>\n",
       "      <td>Light Gradient Boosting Machine</td>\n",
       "      <td>219.5271</td>\n",
       "      <td>62374.3217</td>\n",
       "      <td>247.7669</td>\n",
       "      <td>-0.0508</td>\n",
       "      <td>0.5234</td>\n",
       "      <td>0.5604</td>\n",
       "      <td>0.0133</td>\n",
       "      <td>Function A</td>\n",
       "    </tr>\n",
       "    <tr>\n",
       "      <th>en</th>\n",
       "      <td>Elastic Net</td>\n",
       "      <td>222.4878</td>\n",
       "      <td>68135.2425</td>\n",
       "      <td>259.4001</td>\n",
       "      <td>-0.2940</td>\n",
       "      <td>0.6502</td>\n",
       "      <td>0.7584</td>\n",
       "      <td>0.0067</td>\n",
       "      <td>Function B</td>\n",
       "    </tr>\n",
       "    <tr>\n",
       "      <th>br</th>\n",
       "      <td>Bayesian Ridge</td>\n",
       "      <td>224.3305</td>\n",
       "      <td>68608.3593</td>\n",
       "      <td>261.5619</td>\n",
       "      <td>-0.2102</td>\n",
       "      <td>0.5995</td>\n",
       "      <td>0.6145</td>\n",
       "      <td>0.0067</td>\n",
       "      <td>Function C</td>\n",
       "    </tr>\n",
       "  </tbody>\n",
       "</table>\n",
       "</div>"
      ],
      "text/plain": [
       "                                    Model       MAE         MSE      RMSE  \\\n",
       "lightgbm  Light Gradient Boosting Machine  219.5271  62374.3217  247.7669   \n",
       "en                            Elastic Net  222.4878  68135.2425  259.4001   \n",
       "br                         Bayesian Ridge  224.3305  68608.3593  261.5619   \n",
       "\n",
       "              R2   RMSLE    MAPE  TT (Sec)    function  \n",
       "lightgbm -0.0508  0.5234  0.5604    0.0133  Function A  \n",
       "en       -0.2940  0.6502  0.7584    0.0067  Function B  \n",
       "br       -0.2102  0.5995  0.6145    0.0067  Function C  "
      ]
     },
     "execution_count": 129,
     "metadata": {},
     "output_type": "execute_result"
    }
   ],
   "source": [
    "concat_results = pd.concat(all_results,axis=0)\n",
    "concat_results.head()"
   ]
  },
  {
   "cell_type": "markdown",
   "id": "41e0b161-f571-4e37-9cff-b881212c9222",
   "metadata": {},
   "source": [
    "### Notes\n",
    "1. tqdm -> gives a % completion in the for loop iteration\n",
    "2. silent = True in setup removes the prompt to confirm the pre-processed data setup\n",
    "3. verbose=False avoids printing results on the console while training\n",
    "4. n_jobs with negative value allocates that number as the count of cpu processors that will not be used in this process\n",
    "5. pull() gives you the list of error metrics per model, getting the iloc[0:1] means you only get the top model and since you sorted using MAE, the model chosen is based on the lowest MAE\n",
    "6. final_model = {} initializes a dictionary and can be a storage of all the finalized models\n",
    "\n",
    "### Notes 2\n",
    "You can store it in a list then use pd.concat(all_results,axis=0) to append"
   ]
  },
  {
   "cell_type": "code",
   "execution_count": 141,
   "id": "e40dbdb6-9563-46cd-a1b0-98aaba47c543",
   "metadata": {},
   "outputs": [
    {
     "data": {
      "text/html": [
       "<div>\n",
       "<style scoped>\n",
       "    .dataframe tbody tr th:only-of-type {\n",
       "        vertical-align: middle;\n",
       "    }\n",
       "\n",
       "    .dataframe tbody tr th {\n",
       "        vertical-align: top;\n",
       "    }\n",
       "\n",
       "    .dataframe thead th {\n",
       "        text-align: right;\n",
       "    }\n",
       "</style>\n",
       "<table border=\"1\" class=\"dataframe\">\n",
       "  <thead>\n",
       "    <tr style=\"text-align: right;\">\n",
       "      <th></th>\n",
       "      <th>Date</th>\n",
       "      <th>month</th>\n",
       "      <th>year</th>\n",
       "      <th>quarter</th>\n",
       "    </tr>\n",
       "  </thead>\n",
       "  <tbody>\n",
       "    <tr>\n",
       "      <th>0</th>\n",
       "      <td>2021-01-01</td>\n",
       "      <td>1</td>\n",
       "      <td>2021</td>\n",
       "      <td>1</td>\n",
       "    </tr>\n",
       "    <tr>\n",
       "      <th>1</th>\n",
       "      <td>2021-02-01</td>\n",
       "      <td>2</td>\n",
       "      <td>2021</td>\n",
       "      <td>1</td>\n",
       "    </tr>\n",
       "    <tr>\n",
       "      <th>2</th>\n",
       "      <td>2021-03-01</td>\n",
       "      <td>3</td>\n",
       "      <td>2021</td>\n",
       "      <td>1</td>\n",
       "    </tr>\n",
       "    <tr>\n",
       "      <th>3</th>\n",
       "      <td>2021-04-01</td>\n",
       "      <td>4</td>\n",
       "      <td>2021</td>\n",
       "      <td>2</td>\n",
       "    </tr>\n",
       "    <tr>\n",
       "      <th>4</th>\n",
       "      <td>2021-05-01</td>\n",
       "      <td>5</td>\n",
       "      <td>2021</td>\n",
       "      <td>2</td>\n",
       "    </tr>\n",
       "  </tbody>\n",
       "</table>\n",
       "</div>"
      ],
      "text/plain": [
       "        Date  month  year  quarter\n",
       "0 2021-01-01      1  2021        1\n",
       "1 2021-02-01      2  2021        1\n",
       "2 2021-03-01      3  2021        1\n",
       "3 2021-04-01      4  2021        2\n",
       "4 2021-05-01      5  2021        2"
      ]
     },
     "execution_count": 141,
     "metadata": {},
     "output_type": "execute_result"
    }
   ],
   "source": [
    "#Generate predictions using trained models\n",
    "\n",
    "# create a date range from 2013 to 2019\n",
    "all_dates = pd.date_range(start='2021-01-01', end = '2022-05-01', freq = 'MS')\n",
    "# create empty dataframe\n",
    "score_df = pd.DataFrame()\n",
    "# add columns to dataset\n",
    "score_df['Date'] = all_dates\n",
    "score_df['month'] = [i.month for i in score_df['Date']]\n",
    "score_df['year'] = [i.year for i in score_df['Date']]\n",
    "score_df['quarter'] = [i.quarter for i in score_df['Date']]\n",
    "# score_df['day_of_week'] = [i.dayofweek for i in score_df['date']]\n",
    "# score_df['day_of_year'] = [i.dayofyear for i in score_df['date']]\n",
    "score_df.head()"
   ]
  },
  {
   "cell_type": "code",
   "execution_count": 142,
   "id": "35e9a37c-e4f0-4eec-a5c6-fa40684195fd",
   "metadata": {},
   "outputs": [
    {
     "name": "stderr",
     "output_type": "stream",
     "text": [
      "100%|██████████| 3/3 [00:00<00:00,  3.45it/s]\n"
     ]
    },
    {
     "data": {
      "text/html": [
       "<div>\n",
       "<style scoped>\n",
       "    .dataframe tbody tr th:only-of-type {\n",
       "        vertical-align: middle;\n",
       "    }\n",
       "\n",
       "    .dataframe tbody tr th {\n",
       "        vertical-align: top;\n",
       "    }\n",
       "\n",
       "    .dataframe thead th {\n",
       "        text-align: right;\n",
       "    }\n",
       "</style>\n",
       "<table border=\"1\" class=\"dataframe\">\n",
       "  <thead>\n",
       "    <tr style=\"text-align: right;\">\n",
       "      <th></th>\n",
       "      <th>Date</th>\n",
       "      <th>month</th>\n",
       "      <th>year</th>\n",
       "      <th>quarter</th>\n",
       "      <th>Label</th>\n",
       "      <th>function</th>\n",
       "    </tr>\n",
       "  </thead>\n",
       "  <tbody>\n",
       "    <tr>\n",
       "      <th>0</th>\n",
       "      <td>2021-01-01</td>\n",
       "      <td>1</td>\n",
       "      <td>2021</td>\n",
       "      <td>1</td>\n",
       "      <td>514.454545</td>\n",
       "      <td>Function A</td>\n",
       "    </tr>\n",
       "    <tr>\n",
       "      <th>1</th>\n",
       "      <td>2021-02-01</td>\n",
       "      <td>2</td>\n",
       "      <td>2021</td>\n",
       "      <td>1</td>\n",
       "      <td>514.454545</td>\n",
       "      <td>Function A</td>\n",
       "    </tr>\n",
       "    <tr>\n",
       "      <th>2</th>\n",
       "      <td>2021-03-01</td>\n",
       "      <td>3</td>\n",
       "      <td>2021</td>\n",
       "      <td>1</td>\n",
       "      <td>514.454545</td>\n",
       "      <td>Function A</td>\n",
       "    </tr>\n",
       "    <tr>\n",
       "      <th>3</th>\n",
       "      <td>2021-04-01</td>\n",
       "      <td>4</td>\n",
       "      <td>2021</td>\n",
       "      <td>2</td>\n",
       "      <td>514.454545</td>\n",
       "      <td>Function A</td>\n",
       "    </tr>\n",
       "    <tr>\n",
       "      <th>4</th>\n",
       "      <td>2021-05-01</td>\n",
       "      <td>5</td>\n",
       "      <td>2021</td>\n",
       "      <td>2</td>\n",
       "      <td>514.454545</td>\n",
       "      <td>Function A</td>\n",
       "    </tr>\n",
       "  </tbody>\n",
       "</table>\n",
       "</div>"
      ],
      "text/plain": [
       "        Date  month  year  quarter       Label    function\n",
       "0 2021-01-01      1  2021        1  514.454545  Function A\n",
       "1 2021-02-01      2  2021        1  514.454545  Function A\n",
       "2 2021-03-01      3  2021        1  514.454545  Function A\n",
       "3 2021-04-01      4  2021        2  514.454545  Function A\n",
       "4 2021-05-01      5  2021        2  514.454545  Function A"
      ]
     },
     "execution_count": 142,
     "metadata": {},
     "output_type": "execute_result"
    }
   ],
   "source": [
    "from pycaret.regression import load_model, predict_model\n",
    "all_score_df = []\n",
    "for i in tqdm(all_data['function'].unique()):\n",
    "#for i in tqdm(data['time_series'].unique()):\n",
    "    i = i.replace(\"/\", \"_\")\n",
    "    l = load_model('trained_models/' + str(i), verbose=False)\n",
    "    p = predict_model(l, data=score_df)\n",
    "    p['function'] = i.replace(\"_\", \"/\")\n",
    "    all_score_df.append(p)\n",
    "concat_df = pd.concat(all_score_df, axis=0)\n",
    "concat_df.head()"
   ]
  },
  {
   "cell_type": "code",
   "execution_count": 143,
   "id": "9782748a-7107-484a-a874-afcd02502f71",
   "metadata": {},
   "outputs": [
    {
     "data": {
      "text/html": [
       "<div>\n",
       "<style scoped>\n",
       "    .dataframe tbody tr th:only-of-type {\n",
       "        vertical-align: middle;\n",
       "    }\n",
       "\n",
       "    .dataframe tbody tr th {\n",
       "        vertical-align: top;\n",
       "    }\n",
       "\n",
       "    .dataframe thead th {\n",
       "        text-align: right;\n",
       "    }\n",
       "</style>\n",
       "<table border=\"1\" class=\"dataframe\">\n",
       "  <thead>\n",
       "    <tr style=\"text-align: right;\">\n",
       "      <th></th>\n",
       "      <th>Date</th>\n",
       "      <th>month</th>\n",
       "      <th>year</th>\n",
       "      <th>quarter</th>\n",
       "      <th>Label</th>\n",
       "      <th>function</th>\n",
       "      <th>volume</th>\n",
       "    </tr>\n",
       "  </thead>\n",
       "  <tbody>\n",
       "    <tr>\n",
       "      <th>46</th>\n",
       "      <td>2022-01-01</td>\n",
       "      <td>1</td>\n",
       "      <td>2022</td>\n",
       "      <td>1</td>\n",
       "      <td>524.452222</td>\n",
       "      <td>Function C</td>\n",
       "      <td>290</td>\n",
       "    </tr>\n",
       "    <tr>\n",
       "      <th>47</th>\n",
       "      <td>2022-02-01</td>\n",
       "      <td>2</td>\n",
       "      <td>2022</td>\n",
       "      <td>1</td>\n",
       "      <td>445.641584</td>\n",
       "      <td>Function C</td>\n",
       "      <td>273</td>\n",
       "    </tr>\n",
       "    <tr>\n",
       "      <th>48</th>\n",
       "      <td>2022-03-01</td>\n",
       "      <td>3</td>\n",
       "      <td>2022</td>\n",
       "      <td>1</td>\n",
       "      <td>430.634314</td>\n",
       "      <td>Function C</td>\n",
       "      <td>567</td>\n",
       "    </tr>\n",
       "    <tr>\n",
       "      <th>49</th>\n",
       "      <td>2022-04-01</td>\n",
       "      <td>4</td>\n",
       "      <td>2022</td>\n",
       "      <td>2</td>\n",
       "      <td>502.530269</td>\n",
       "      <td>Function C</td>\n",
       "      <td>838</td>\n",
       "    </tr>\n",
       "    <tr>\n",
       "      <th>50</th>\n",
       "      <td>2022-05-01</td>\n",
       "      <td>5</td>\n",
       "      <td>2022</td>\n",
       "      <td>2</td>\n",
       "      <td>438.726903</td>\n",
       "      <td>Function C</td>\n",
       "      <td>190</td>\n",
       "    </tr>\n",
       "  </tbody>\n",
       "</table>\n",
       "</div>"
      ],
      "text/plain": [
       "         Date  month  year  quarter       Label    function  volume\n",
       "46 2022-01-01      1  2022        1  524.452222  Function C     290\n",
       "47 2022-02-01      2  2022        1  445.641584  Function C     273\n",
       "48 2022-03-01      3  2022        1  430.634314  Function C     567\n",
       "49 2022-04-01      4  2022        2  502.530269  Function C     838\n",
       "50 2022-05-01      5  2022        2  438.726903  Function C     190"
      ]
     },
     "execution_count": 143,
     "metadata": {},
     "output_type": "execute_result"
    }
   ],
   "source": [
    "final_df = pd.merge(concat_df, all_data[['volume','Date','function']], how = 'left', left_on=['Date', 'function'], right_on = ['Date', 'function'])\n",
    "final_df.tail()"
   ]
  },
  {
   "cell_type": "code",
   "execution_count": null,
   "id": "92911a8e-0144-4bca-8dc8-c527e0cd24ec",
   "metadata": {},
   "outputs": [],
   "source": [
    "#use TQDM HERE"
   ]
  }
 ],
 "metadata": {
  "kernelspec": {
   "display_name": "Python 3 (ipykernel)",
   "language": "python",
   "name": "python3"
  },
  "language_info": {
   "codemirror_mode": {
    "name": "ipython",
    "version": 3
   },
   "file_extension": ".py",
   "mimetype": "text/x-python",
   "name": "python",
   "nbconvert_exporter": "python",
   "pygments_lexer": "ipython3",
   "version": "3.8.13"
  }
 },
 "nbformat": 4,
 "nbformat_minor": 5
}
